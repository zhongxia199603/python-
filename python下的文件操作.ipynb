{
 "cells": [
  {
   "cell_type": "code",
   "execution_count": 1,
   "metadata": {
    "collapsed": true
   },
   "outputs": [],
   "source": [
    "import os"
   ]
  },
  {
   "cell_type": "markdown",
   "metadata": {},
   "source": [
    "## 查看当前工作目录"
   ]
  },
  {
   "cell_type": "code",
   "execution_count": 8,
   "metadata": {
    "collapsed": false
   },
   "outputs": [
    {
     "data": {
      "text/plain": [
       "'/home/jinhanqi/program/ipynb\\xe5\\xb8\\xb8\\xe7\\x94\\xa8\\xe6\\x95\\x99\\xe7\\xa8\\x8b'"
      ]
     },
     "execution_count": 8,
     "metadata": {},
     "output_type": "execute_result"
    }
   ],
   "source": [
    "path = os.getcwd()\n",
    "path"
   ]
  },
  {
   "cell_type": "markdown",
   "metadata": {},
   "source": [
    "## 查看当前目录下的文件夹"
   ]
  },
  {
   "cell_type": "code",
   "execution_count": 11,
   "metadata": {
    "collapsed": false
   },
   "outputs": [
    {
     "data": {
      "text/plain": [
       "['\\xe6\\x95\\xb4\\xe5\\x90\\x88\\xe6\\x9f\\x90\\xe4\\xb8\\xaalog\\xe7\\x9b\\xae\\xe5\\xbd\\x95\\xe4\\xb8\\x8b\\xe7\\x9a\\x84\\xe5\\x85\\xa8\\xe9\\x83\\xa8rouge\\xe7\\xbb\\x93\\xe6\\x9e\\x9c.ipynb',\n",
       " 'python\\xe4\\xb8\\x8b\\xe7\\x9a\\x84\\xe6\\x96\\x87\\xe4\\xbb\\xb6\\xe6\\x93\\x8d\\xe4\\xbd\\x9c.ipynb',\n",
       " 'a_file',\n",
       " 'Untitled.ipynb',\n",
       " '\\xe5\\xb0\\x86\\xe4\\xb8\\xa4\\xe4\\xb8\\xaa\\xe5\\x88\\x97\\xe8\\xa1\\xa8\\xe4\\xb8\\x80\\xe8\\xb5\\xb7\\xe6\\x89\\x93\\xe4\\xb9\\xb1.ipynb',\n",
       " 'makevocab\\xe4\\xbb\\xa5\\xe5\\x8f\\x8a\\xe6\\x95\\xb0\\xe6\\x8d\\xae\\xe7\\xbb\\x9f\\xe8\\xae\\xa1.ipynb',\n",
       " 'LSTM+CRF.ipynb',\n",
       " 'test.ipynb',\n",
       " '.ipynb_checkpoints']"
      ]
     },
     "execution_count": 11,
     "metadata": {},
     "output_type": "execute_result"
    }
   ],
   "source": [
    "os.listdir(path)"
   ]
  },
  {
   "cell_type": "markdown",
   "metadata": {},
   "source": [
    "## 创建目录\n",
    "创建多级目录：os.makedirs（r“c：\\python\\test”）\n",
    "\n",
    "创建单个目录：os.mkdir（“test”）"
   ]
  },
  {
   "cell_type": "code",
   "execution_count": 13,
   "metadata": {
    "collapsed": true
   },
   "outputs": [],
   "source": [
    "os.mkdir(\"test\")"
   ]
  },
  {
   "cell_type": "code",
   "execution_count": 14,
   "metadata": {
    "collapsed": false
   },
   "outputs": [
    {
     "data": {
      "text/plain": [
       "['\\xe6\\x95\\xb4\\xe5\\x90\\x88\\xe6\\x9f\\x90\\xe4\\xb8\\xaalog\\xe7\\x9b\\xae\\xe5\\xbd\\x95\\xe4\\xb8\\x8b\\xe7\\x9a\\x84\\xe5\\x85\\xa8\\xe9\\x83\\xa8rouge\\xe7\\xbb\\x93\\xe6\\x9e\\x9c.ipynb',\n",
       " 'python\\xe4\\xb8\\x8b\\xe7\\x9a\\x84\\xe6\\x96\\x87\\xe4\\xbb\\xb6\\xe6\\x93\\x8d\\xe4\\xbd\\x9c.ipynb',\n",
       " 'a_file',\n",
       " 'Untitled.ipynb',\n",
       " '\\xe5\\xb0\\x86\\xe4\\xb8\\xa4\\xe4\\xb8\\xaa\\xe5\\x88\\x97\\xe8\\xa1\\xa8\\xe4\\xb8\\x80\\xe8\\xb5\\xb7\\xe6\\x89\\x93\\xe4\\xb9\\xb1.ipynb',\n",
       " 'makevocab\\xe4\\xbb\\xa5\\xe5\\x8f\\x8a\\xe6\\x95\\xb0\\xe6\\x8d\\xae\\xe7\\xbb\\x9f\\xe8\\xae\\xa1.ipynb',\n",
       " 'LSTM+CRF.ipynb',\n",
       " 'test.ipynb',\n",
       " '.ipynb_checkpoints',\n",
       " 'test']"
      ]
     },
     "execution_count": 14,
     "metadata": {},
     "output_type": "execute_result"
    }
   ],
   "source": [
    "os.listdir(path)"
   ]
  },
  {
   "cell_type": "markdown",
   "metadata": {},
   "source": [
    "## 删除一个文件以及文件夹\n",
    "os.remove(path)   #删除文件\n",
    "os.removedirs(path)   #删除空文件夹\n",
    "\n",
    "shutil.rmtree(path)    #递归删除文件夹"
   ]
  },
  {
   "cell_type": "code",
   "execution_count": 16,
   "metadata": {
    "collapsed": false
   },
   "outputs": [],
   "source": [
    "with open(path+\"/\"+\"test\"+\"/\"+'a_file', 'w') as f:\n",
    "    f.write('this is a file')"
   ]
  },
  {
   "cell_type": "code",
   "execution_count": 17,
   "metadata": {
    "collapsed": false
   },
   "outputs": [
    {
     "data": {
      "text/plain": [
       "['a_file']"
      ]
     },
     "execution_count": 17,
     "metadata": {},
     "output_type": "execute_result"
    }
   ],
   "source": [
    "os.listdir(path+'/test')"
   ]
  },
  {
   "cell_type": "code",
   "execution_count": 18,
   "metadata": {
    "collapsed": false
   },
   "outputs": [],
   "source": [
    "import shutil\n",
    "shutil.rmtree(path+'/test')"
   ]
  },
  {
   "cell_type": "code",
   "execution_count": 19,
   "metadata": {
    "collapsed": false
   },
   "outputs": [
    {
     "data": {
      "text/plain": [
       "['\\xe6\\x95\\xb4\\xe5\\x90\\x88\\xe6\\x9f\\x90\\xe4\\xb8\\xaalog\\xe7\\x9b\\xae\\xe5\\xbd\\x95\\xe4\\xb8\\x8b\\xe7\\x9a\\x84\\xe5\\x85\\xa8\\xe9\\x83\\xa8rouge\\xe7\\xbb\\x93\\xe6\\x9e\\x9c.ipynb',\n",
       " 'python\\xe4\\xb8\\x8b\\xe7\\x9a\\x84\\xe6\\x96\\x87\\xe4\\xbb\\xb6\\xe6\\x93\\x8d\\xe4\\xbd\\x9c.ipynb',\n",
       " 'a_file',\n",
       " 'Untitled.ipynb',\n",
       " '\\xe5\\xb0\\x86\\xe4\\xb8\\xa4\\xe4\\xb8\\xaa\\xe5\\x88\\x97\\xe8\\xa1\\xa8\\xe4\\xb8\\x80\\xe8\\xb5\\xb7\\xe6\\x89\\x93\\xe4\\xb9\\xb1.ipynb',\n",
       " 'makevocab\\xe4\\xbb\\xa5\\xe5\\x8f\\x8a\\xe6\\x95\\xb0\\xe6\\x8d\\xae\\xe7\\xbb\\x9f\\xe8\\xae\\xa1.ipynb',\n",
       " 'LSTM+CRF.ipynb',\n",
       " 'test.ipynb',\n",
       " '.ipynb_checkpoints']"
      ]
     },
     "execution_count": 19,
     "metadata": {},
     "output_type": "execute_result"
    }
   ],
   "source": [
    "os.listdir(path)"
   ]
  },
  {
   "cell_type": "code",
   "execution_count": null,
   "metadata": {
    "collapsed": true
   },
   "outputs": [],
   "source": []
  }
 ],
 "metadata": {
  "kernelspec": {
   "display_name": "Python 2",
   "language": "python",
   "name": "python2"
  },
  "language_info": {
   "codemirror_mode": {
    "name": "ipython",
    "version": 2
   },
   "file_extension": ".py",
   "mimetype": "text/x-python",
   "name": "python",
   "nbconvert_exporter": "python",
   "pygments_lexer": "ipython2",
   "version": "2.7.13"
  }
 },
 "nbformat": 4,
 "nbformat_minor": 2
}
